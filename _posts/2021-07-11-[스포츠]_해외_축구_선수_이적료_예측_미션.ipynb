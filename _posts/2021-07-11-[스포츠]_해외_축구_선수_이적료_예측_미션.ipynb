{
  "nbformat": 4,
  "nbformat_minor": 0,
  "metadata": {
    "colab": {
      "name": "[스포츠] 해외 축구 선수 이적료 예측 미션.ipynb의 사본",
      "provenance": [],
      "collapsed_sections": []
    },
    "kernelspec": {
      "name": "python3",
      "display_name": "Python 3"
    },
    "language_info": {
      "name": "python"
    },
    "accelerator": "GPU"
  },
  "cells": [
    {
      "cell_type": "markdown",
      "metadata": {
        "id": "PUkKH0kWGgxL"
      },
      "source": [
        "파일 불러오기"
      ]
    },
    {
      "cell_type": "code",
      "metadata": {
        "colab": {
          "base_uri": "https://localhost:8080/"
        },
        "id": "Uqxz2SWuGb6a",
        "outputId": "45d90497-bb39-4d24-b594-7d3ca98336d8"
      },
      "source": [
        "from google.colab import drive\n",
        "drive.mount('/content/drive')"
      ],
      "execution_count": null,
      "outputs": [
        {
          "output_type": "stream",
          "text": [
            "Mounted at /content/drive\n"
          ],
          "name": "stdout"
        }
      ]
    },
    {
      "cell_type": "code",
      "metadata": {
        "id": "_dugnOMtGYhB"
      },
      "source": [
        "import pandas as pd\n",
        "train = pd.read_csv('/content/drive/MyDrive/Colab Notebooks/soccer player pay/FIFA_train.csv')\n",
        "test = pd.read_csv('/content/drive/MyDrive/Colab Notebooks/soccer player pay/FIFA_test.csv')\n",
        "submission = pd.read_csv('/content/drive/MyDrive/Colab Notebooks/soccer player pay/submission.csv')"
      ],
      "execution_count": null,
      "outputs": []
    },
    {
      "cell_type": "markdown",
      "metadata": {
        "id": "gLjdkPWNHNtB"
      },
      "source": [
        "# 1. EDA"
      ]
    },
    {
      "cell_type": "markdown",
      "metadata": {
        "id": "rjDhv4L3G4xk"
      },
      "source": [
        "[파일]\n",
        "1. FIFA_train.csv : 축구선수의 정보와 능력치 그리고 이적시장 가격이 포함된 데이터\n",
        "2. FIFA_test.csv : 축구선수의 정보와 능력치가 포함된 데이터 해당 데이터의 선수들의 이적료를 예측해 주시면 됩니다.\n",
        "3. submission.csv : 답안지의 형식\n",
        "\n",
        "FIFA_train.csv\n",
        "1. id : 선수 고유의 아이디\n",
        "2. name : 이름\n",
        "3. age : 나이\n",
        "4. continent : 선수들의 국적이 포함되어 있는 대륙입니다\n",
        "5. contract_until : 선수의 계약기간이 언제까지인지 나타내어 줍니다\n",
        "6. position : 선수가 선호하는 포지션입니다. ex) 공격수, 수비수 등\n",
        "7. prefer_foot : 선수가 선호하는 발입니다. ex) 오른발\n",
        "8. reputation : 선수가 유명한 정도입니다. ex) 높은 수치일 수록 유명한 선수\n",
        "9. stat_overall : 선수의 현재 능력치 입니다.\n",
        "10. stat_potential : 선수가 경험 및 노력을 통해 발전할 수 있는 정도입니다.\n",
        "11. stat_skill_moves : 선수의 개인기 능력치 입니다.\n",
        "12. value : FIFA가 선정한 선수의 이적 시장 가격 (단위 : 유로) 입니다.\n",
        "\n",
        "[제출 파일의 형식]\n",
        "submission.csv : 선수들의 아이디와 그에맞는 이적료가격을 기입하여 제출하여 주시기 바랍니다.\n",
        "\n",
        "1. id : 선수 고유의 아이디\n",
        "2. value : 예측된 선수 이적 시장 가격을 기입 "
      ]
    },
    {
      "cell_type": "code",
      "metadata": {
        "colab": {
          "base_uri": "https://localhost:8080/",
          "height": 204
        },
        "id": "tnVKIxF6G9lS",
        "outputId": "61d63ff5-7172-40d1-bde8-f13d0335d577"
      },
      "source": [
        "train.head()"
      ],
      "execution_count": null,
      "outputs": [
        {
          "output_type": "execute_result",
          "data": {
            "text/html": [
              "<div>\n",
              "<style scoped>\n",
              "    .dataframe tbody tr th:only-of-type {\n",
              "        vertical-align: middle;\n",
              "    }\n",
              "\n",
              "    .dataframe tbody tr th {\n",
              "        vertical-align: top;\n",
              "    }\n",
              "\n",
              "    .dataframe thead th {\n",
              "        text-align: right;\n",
              "    }\n",
              "</style>\n",
              "<table border=\"1\" class=\"dataframe\">\n",
              "  <thead>\n",
              "    <tr style=\"text-align: right;\">\n",
              "      <th></th>\n",
              "      <th>id</th>\n",
              "      <th>name</th>\n",
              "      <th>age</th>\n",
              "      <th>continent</th>\n",
              "      <th>contract_until</th>\n",
              "      <th>position</th>\n",
              "      <th>prefer_foot</th>\n",
              "      <th>reputation</th>\n",
              "      <th>stat_overall</th>\n",
              "      <th>stat_potential</th>\n",
              "      <th>stat_skill_moves</th>\n",
              "      <th>value</th>\n",
              "    </tr>\n",
              "  </thead>\n",
              "  <tbody>\n",
              "    <tr>\n",
              "      <th>0</th>\n",
              "      <td>0</td>\n",
              "      <td>L. Messi</td>\n",
              "      <td>31</td>\n",
              "      <td>south america</td>\n",
              "      <td>2021</td>\n",
              "      <td>ST</td>\n",
              "      <td>left</td>\n",
              "      <td>5.0</td>\n",
              "      <td>94</td>\n",
              "      <td>94</td>\n",
              "      <td>4.0</td>\n",
              "      <td>110500000.0</td>\n",
              "    </tr>\n",
              "    <tr>\n",
              "      <th>1</th>\n",
              "      <td>3</td>\n",
              "      <td>De Gea</td>\n",
              "      <td>27</td>\n",
              "      <td>europe</td>\n",
              "      <td>2020</td>\n",
              "      <td>GK</td>\n",
              "      <td>right</td>\n",
              "      <td>4.0</td>\n",
              "      <td>91</td>\n",
              "      <td>93</td>\n",
              "      <td>1.0</td>\n",
              "      <td>72000000.0</td>\n",
              "    </tr>\n",
              "    <tr>\n",
              "      <th>2</th>\n",
              "      <td>7</td>\n",
              "      <td>L. Suárez</td>\n",
              "      <td>31</td>\n",
              "      <td>south america</td>\n",
              "      <td>2021</td>\n",
              "      <td>ST</td>\n",
              "      <td>right</td>\n",
              "      <td>5.0</td>\n",
              "      <td>91</td>\n",
              "      <td>91</td>\n",
              "      <td>3.0</td>\n",
              "      <td>80000000.0</td>\n",
              "    </tr>\n",
              "    <tr>\n",
              "      <th>3</th>\n",
              "      <td>8</td>\n",
              "      <td>Sergio Ramos</td>\n",
              "      <td>32</td>\n",
              "      <td>europe</td>\n",
              "      <td>2020</td>\n",
              "      <td>DF</td>\n",
              "      <td>right</td>\n",
              "      <td>4.0</td>\n",
              "      <td>91</td>\n",
              "      <td>91</td>\n",
              "      <td>3.0</td>\n",
              "      <td>51000000.0</td>\n",
              "    </tr>\n",
              "    <tr>\n",
              "      <th>4</th>\n",
              "      <td>9</td>\n",
              "      <td>J. Oblak</td>\n",
              "      <td>25</td>\n",
              "      <td>europe</td>\n",
              "      <td>2021</td>\n",
              "      <td>GK</td>\n",
              "      <td>right</td>\n",
              "      <td>3.0</td>\n",
              "      <td>90</td>\n",
              "      <td>93</td>\n",
              "      <td>1.0</td>\n",
              "      <td>68000000.0</td>\n",
              "    </tr>\n",
              "  </tbody>\n",
              "</table>\n",
              "</div>"
            ],
            "text/plain": [
              "   id          name  age  ... stat_potential stat_skill_moves        value\n",
              "0   0      L. Messi   31  ...             94              4.0  110500000.0\n",
              "1   3        De Gea   27  ...             93              1.0   72000000.0\n",
              "2   7     L. Suárez   31  ...             91              3.0   80000000.0\n",
              "3   8  Sergio Ramos   32  ...             91              3.0   51000000.0\n",
              "4   9      J. Oblak   25  ...             93              1.0   68000000.0\n",
              "\n",
              "[5 rows x 12 columns]"
            ]
          },
          "metadata": {
            "tags": []
          },
          "execution_count": 4
        }
      ]
    },
    {
      "cell_type": "code",
      "metadata": {
        "colab": {
          "base_uri": "https://localhost:8080/"
        },
        "id": "jdP5uIIkHNCB",
        "outputId": "41c63d63-9a6d-460b-86f3-faf298becbf7"
      },
      "source": [
        "train.info()"
      ],
      "execution_count": null,
      "outputs": [
        {
          "output_type": "stream",
          "text": [
            "<class 'pandas.core.frame.DataFrame'>\n",
            "RangeIndex: 8932 entries, 0 to 8931\n",
            "Data columns (total 12 columns):\n",
            " #   Column            Non-Null Count  Dtype  \n",
            "---  ------            --------------  -----  \n",
            " 0   id                8932 non-null   int64  \n",
            " 1   name              8932 non-null   object \n",
            " 2   age               8932 non-null   int64  \n",
            " 3   continent         8932 non-null   object \n",
            " 4   contract_until    8932 non-null   object \n",
            " 5   position          8932 non-null   object \n",
            " 6   prefer_foot       8932 non-null   object \n",
            " 7   reputation        8932 non-null   float64\n",
            " 8   stat_overall      8932 non-null   int64  \n",
            " 9   stat_potential    8932 non-null   int64  \n",
            " 10  stat_skill_moves  8932 non-null   float64\n",
            " 11  value             8932 non-null   float64\n",
            "dtypes: float64(3), int64(4), object(5)\n",
            "memory usage: 837.5+ KB\n"
          ],
          "name": "stdout"
        }
      ]
    },
    {
      "cell_type": "code",
      "metadata": {
        "colab": {
          "base_uri": "https://localhost:8080/"
        },
        "id": "m0nSguAZHcEi",
        "outputId": "94d460af-8e10-4b70-f2e6-37ba852e4b2d"
      },
      "source": [
        "test.info()"
      ],
      "execution_count": null,
      "outputs": [
        {
          "output_type": "stream",
          "text": [
            "<class 'pandas.core.frame.DataFrame'>\n",
            "RangeIndex: 3828 entries, 0 to 3827\n",
            "Data columns (total 11 columns):\n",
            " #   Column            Non-Null Count  Dtype  \n",
            "---  ------            --------------  -----  \n",
            " 0   id                3828 non-null   int64  \n",
            " 1   name              3828 non-null   object \n",
            " 2   age               3828 non-null   int64  \n",
            " 3   continent         3828 non-null   object \n",
            " 4   contract_until    3828 non-null   object \n",
            " 5   position          3828 non-null   object \n",
            " 6   prefer_foot       3828 non-null   object \n",
            " 7   reputation        3828 non-null   float64\n",
            " 8   stat_overall      3828 non-null   int64  \n",
            " 9   stat_potential    3828 non-null   int64  \n",
            " 10  stat_skill_moves  3828 non-null   float64\n",
            "dtypes: float64(2), int64(4), object(5)\n",
            "memory usage: 329.1+ KB\n"
          ],
          "name": "stdout"
        }
      ]
    },
    {
      "cell_type": "markdown",
      "metadata": {
        "id": "g0erdZ0BJT34"
      },
      "source": [
        "# 2. 데이터 전처리"
      ]
    },
    {
      "cell_type": "markdown",
      "metadata": {
        "id": "RdDCAACCIMMS"
      },
      "source": [
        "결측값은 없는 것으로 파악된다."
      ]
    },
    {
      "cell_type": "code",
      "metadata": {
        "colab": {
          "base_uri": "https://localhost:8080/"
        },
        "id": "sLplxUvwHuwh",
        "outputId": "42087b40-2277-494f-d251-8489727497f8"
      },
      "source": [
        "print(train.shape)\n",
        "print(test.shape)\n",
        "print(submission.shape)"
      ],
      "execution_count": null,
      "outputs": [
        {
          "output_type": "stream",
          "text": [
            "(8932, 12)\n",
            "(3828, 11)\n",
            "(3828, 2)\n"
          ],
          "name": "stdout"
        }
      ]
    },
    {
      "cell_type": "code",
      "metadata": {
        "colab": {
          "base_uri": "https://localhost:8080/",
          "height": 266
        },
        "id": "yK7pkk9vIOtB",
        "outputId": "eea012f4-251f-4ac9-b9c8-51eb99584794"
      },
      "source": [
        "import seaborn as sns\n",
        "import matplotlib.pyplot as plt\n",
        "train.corr()"
      ],
      "execution_count": null,
      "outputs": [
        {
          "output_type": "execute_result",
          "data": {
            "text/html": [
              "<div>\n",
              "<style scoped>\n",
              "    .dataframe tbody tr th:only-of-type {\n",
              "        vertical-align: middle;\n",
              "    }\n",
              "\n",
              "    .dataframe tbody tr th {\n",
              "        vertical-align: top;\n",
              "    }\n",
              "\n",
              "    .dataframe thead th {\n",
              "        text-align: right;\n",
              "    }\n",
              "</style>\n",
              "<table border=\"1\" class=\"dataframe\">\n",
              "  <thead>\n",
              "    <tr style=\"text-align: right;\">\n",
              "      <th></th>\n",
              "      <th>id</th>\n",
              "      <th>age</th>\n",
              "      <th>reputation</th>\n",
              "      <th>stat_overall</th>\n",
              "      <th>stat_potential</th>\n",
              "      <th>stat_skill_moves</th>\n",
              "      <th>value</th>\n",
              "    </tr>\n",
              "  </thead>\n",
              "  <tbody>\n",
              "    <tr>\n",
              "      <th>id</th>\n",
              "      <td>1.000000</td>\n",
              "      <td>-0.475785</td>\n",
              "      <td>-0.423739</td>\n",
              "      <td>-0.972374</td>\n",
              "      <td>-0.630199</td>\n",
              "      <td>-0.402455</td>\n",
              "      <td>-0.544280</td>\n",
              "    </tr>\n",
              "    <tr>\n",
              "      <th>age</th>\n",
              "      <td>-0.475785</td>\n",
              "      <td>1.000000</td>\n",
              "      <td>0.263468</td>\n",
              "      <td>0.467345</td>\n",
              "      <td>-0.231303</td>\n",
              "      <td>0.039362</td>\n",
              "      <td>0.087319</td>\n",
              "    </tr>\n",
              "    <tr>\n",
              "      <th>reputation</th>\n",
              "      <td>-0.423739</td>\n",
              "      <td>0.263468</td>\n",
              "      <td>1.000000</td>\n",
              "      <td>0.521389</td>\n",
              "      <td>0.399183</td>\n",
              "      <td>0.196582</td>\n",
              "      <td>0.665982</td>\n",
              "    </tr>\n",
              "    <tr>\n",
              "      <th>stat_overall</th>\n",
              "      <td>-0.972374</td>\n",
              "      <td>0.467345</td>\n",
              "      <td>0.521389</td>\n",
              "      <td>1.000000</td>\n",
              "      <td>0.665453</td>\n",
              "      <td>0.400164</td>\n",
              "      <td>0.658444</td>\n",
              "    </tr>\n",
              "    <tr>\n",
              "      <th>stat_potential</th>\n",
              "      <td>-0.630199</td>\n",
              "      <td>-0.231303</td>\n",
              "      <td>0.399183</td>\n",
              "      <td>0.665453</td>\n",
              "      <td>1.000000</td>\n",
              "      <td>0.332578</td>\n",
              "      <td>0.611907</td>\n",
              "    </tr>\n",
              "    <tr>\n",
              "      <th>stat_skill_moves</th>\n",
              "      <td>-0.402455</td>\n",
              "      <td>0.039362</td>\n",
              "      <td>0.196582</td>\n",
              "      <td>0.400164</td>\n",
              "      <td>0.332578</td>\n",
              "      <td>1.000000</td>\n",
              "      <td>0.298500</td>\n",
              "    </tr>\n",
              "    <tr>\n",
              "      <th>value</th>\n",
              "      <td>-0.544280</td>\n",
              "      <td>0.087319</td>\n",
              "      <td>0.665982</td>\n",
              "      <td>0.658444</td>\n",
              "      <td>0.611907</td>\n",
              "      <td>0.298500</td>\n",
              "      <td>1.000000</td>\n",
              "    </tr>\n",
              "  </tbody>\n",
              "</table>\n",
              "</div>"
            ],
            "text/plain": [
              "                        id       age  ...  stat_skill_moves     value\n",
              "id                1.000000 -0.475785  ...         -0.402455 -0.544280\n",
              "age              -0.475785  1.000000  ...          0.039362  0.087319\n",
              "reputation       -0.423739  0.263468  ...          0.196582  0.665982\n",
              "stat_overall     -0.972374  0.467345  ...          0.400164  0.658444\n",
              "stat_potential   -0.630199 -0.231303  ...          0.332578  0.611907\n",
              "stat_skill_moves -0.402455  0.039362  ...          1.000000  0.298500\n",
              "value            -0.544280  0.087319  ...          0.298500  1.000000\n",
              "\n",
              "[7 rows x 7 columns]"
            ]
          },
          "metadata": {
            "tags": []
          },
          "execution_count": 8
        }
      ]
    },
    {
      "cell_type": "code",
      "metadata": {
        "colab": {
          "base_uri": "https://localhost:8080/",
          "height": 685
        },
        "id": "T1woyT-MIl85",
        "outputId": "5e1c5225-7925-4e7b-bc26-f641651a129e"
      },
      "source": [
        "plt.figure(figsize=(10,10))\n",
        "sns.heatmap(train.corr(), annot=True)"
      ],
      "execution_count": null,
      "outputs": [
        {
          "output_type": "execute_result",
          "data": {
            "text/plain": [
              "<matplotlib.axes._subplots.AxesSubplot at 0x7ff92c60ed10>"
            ]
          },
          "metadata": {
            "tags": []
          },
          "execution_count": 9
        },
        {
          "output_type": "display_data",
          "data": {
            "image/png": "[encoded data removed]",
            "text/plain": [
              "<Figure size 720x720 with 2 Axes>"
            ]
          },
          "metadata": {
            "tags": [],
            "needs_background": "light"
          }
        }
      ]
    },
    {
      "cell_type": "markdown",
      "metadata": {
        "id": "abyvnTUAIm1S"
      },
      "source": [
        "value와 관계가 높은 것은 stat_potential, stat_overall, reputation 이 세가지를 특성으로 잡고 모델링을 진행할 것이다."
      ]
    },
    {
      "cell_type": "markdown",
      "metadata": {
        "id": "SjW9AXaRJL5w"
      },
      "source": [
        "# 3. 변수 선택 및 모델 구축\n",
        "Feature Engineering & Initial Modeling"
      ]
    },
    {
      "cell_type": "code",
      "metadata": {
        "id": "t6Fc2VRrJEWa"
      },
      "source": [
        "features = ['reputation', 'stat_overall','stat_potential']\n",
        "X_train = train[features]\n",
        "y_train = train['value']\n",
        "X_test = test[features]"
      ],
      "execution_count": null,
      "outputs": []
    },
    {
      "cell_type": "markdown",
      "metadata": {
        "id": "RUcHXHzhJ5Cg"
      },
      "source": [
        "랜덤 포레스트 모델 구축"
      ]
    },
    {
      "cell_type": "code",
      "metadata": {
        "id": "VuI57xNDJtUZ"
      },
      "source": [
        "from sklearn.ensemble import RandomForestRegressor\n",
        "\n",
        "model = RandomForestRegressor(bootstrap=True, n_estimators=200, max_depth=5, random_state=0)"
      ],
      "execution_count": null,
      "outputs": []
    },
    {
      "cell_type": "markdown",
      "metadata": {
        "id": "EeMkcIe5JxPA"
      },
      "source": [
        "# 5. 모델 학습 및 검증\n",
        "Model Tuning & Evaluation"
      ]
    },
    {
      "cell_type": "code",
      "metadata": {
        "colab": {
          "base_uri": "https://localhost:8080/"
        },
        "id": "pjXh5pmoKbFQ",
        "outputId": "879fffea-7ec2-468f-bd4c-a7c5edec9cb9"
      },
      "source": [
        "model.fit(X_train, y_train)"
      ],
      "execution_count": null,
      "outputs": [
        {
          "output_type": "execute_result",
          "data": {
            "text/plain": [
              "RandomForestRegressor(bootstrap=True, ccp_alpha=0.0, criterion='mse',\n",
              "                      max_depth=5, max_features='auto', max_leaf_nodes=None,\n",
              "                      max_samples=None, min_impurity_decrease=0.0,\n",
              "                      min_impurity_split=None, min_samples_leaf=1,\n",
              "                      min_samples_split=2, min_weight_fraction_leaf=0.0,\n",
              "                      n_estimators=200, n_jobs=None, oob_score=False,\n",
              "                      random_state=0, verbose=0, warm_start=False)"
            ]
          },
          "metadata": {
            "tags": []
          },
          "execution_count": 14
        }
      ]
    },
    {
      "cell_type": "markdown",
      "metadata": {
        "id": "NBJXsxp-KjXf"
      },
      "source": [
        "모델 예측하기"
      ]
    },
    {
      "cell_type": "code",
      "metadata": {
        "id": "b5cGrSrdKgsf"
      },
      "source": [
        "y_pred = model.predict(X_test)"
      ],
      "execution_count": null,
      "outputs": []
    },
    {
      "cell_type": "code",
      "metadata": {
        "id": "ZbywEJdzKt5O"
      },
      "source": [
        "submission['value'] = y_pred\n",
        "submission.to_csv('model.csv', index=False)"
      ],
      "execution_count": null,
      "outputs": []
    },
    {
      "cell_type": "code",
      "metadata": {
        "colab": {
          "base_uri": "https://localhost:8080/",
          "height": 419
        },
        "id": "i6j1aIBiK2l4",
        "outputId": "32eeee28-fd58-4f53-cce7-41c3a7104cf7"
      },
      "source": [
        "submission"
      ],
      "execution_count": null,
      "outputs": [
        {
          "output_type": "execute_result",
          "data": {
            "text/html": [
              "<div>\n",
              "<style scoped>\n",
              "    .dataframe tbody tr th:only-of-type {\n",
              "        vertical-align: middle;\n",
              "    }\n",
              "\n",
              "    .dataframe tbody tr th {\n",
              "        vertical-align: top;\n",
              "    }\n",
              "\n",
              "    .dataframe thead th {\n",
              "        text-align: right;\n",
              "    }\n",
              "</style>\n",
              "<table border=\"1\" class=\"dataframe\">\n",
              "  <thead>\n",
              "    <tr style=\"text-align: right;\">\n",
              "      <th></th>\n",
              "      <th>id</th>\n",
              "      <th>value</th>\n",
              "    </tr>\n",
              "  </thead>\n",
              "  <tbody>\n",
              "    <tr>\n",
              "      <th>0</th>\n",
              "      <td>1</td>\n",
              "      <td>9.412775e+07</td>\n",
              "    </tr>\n",
              "    <tr>\n",
              "      <th>1</th>\n",
              "      <td>2</td>\n",
              "      <td>7.150148e+07</td>\n",
              "    </tr>\n",
              "    <tr>\n",
              "      <th>2</th>\n",
              "      <td>4</td>\n",
              "      <td>6.127439e+07</td>\n",
              "    </tr>\n",
              "    <tr>\n",
              "      <th>3</th>\n",
              "      <td>5</td>\n",
              "      <td>6.150698e+07</td>\n",
              "    </tr>\n",
              "    <tr>\n",
              "      <th>4</th>\n",
              "      <td>6</td>\n",
              "      <td>6.150698e+07</td>\n",
              "    </tr>\n",
              "    <tr>\n",
              "      <th>...</th>\n",
              "      <td>...</td>\n",
              "      <td>...</td>\n",
              "    </tr>\n",
              "    <tr>\n",
              "      <th>3823</th>\n",
              "      <td>16924</td>\n",
              "      <td>1.693312e+05</td>\n",
              "    </tr>\n",
              "    <tr>\n",
              "      <th>3824</th>\n",
              "      <td>16929</td>\n",
              "      <td>1.693312e+05</td>\n",
              "    </tr>\n",
              "    <tr>\n",
              "      <th>3825</th>\n",
              "      <td>16932</td>\n",
              "      <td>1.693312e+05</td>\n",
              "    </tr>\n",
              "    <tr>\n",
              "      <th>3826</th>\n",
              "      <td>16937</td>\n",
              "      <td>1.693312e+05</td>\n",
              "    </tr>\n",
              "    <tr>\n",
              "      <th>3827</th>\n",
              "      <td>16943</td>\n",
              "      <td>1.693312e+05</td>\n",
              "    </tr>\n",
              "  </tbody>\n",
              "</table>\n",
              "<p>3828 rows × 2 columns</p>\n",
              "</div>"
            ],
            "text/plain": [
              "         id         value\n",
              "0         1  9.412775e+07\n",
              "1         2  7.150148e+07\n",
              "2         4  6.127439e+07\n",
              "3         5  6.150698e+07\n",
              "4         6  6.150698e+07\n",
              "...     ...           ...\n",
              "3823  16924  1.693312e+05\n",
              "3824  16929  1.693312e+05\n",
              "3825  16932  1.693312e+05\n",
              "3826  16937  1.693312e+05\n",
              "3827  16943  1.693312e+05\n",
              "\n",
              "[3828 rows x 2 columns]"
            ]
          },
          "metadata": {
            "tags": []
          },
          "execution_count": 20
        }
      ]
    }
  ]
}